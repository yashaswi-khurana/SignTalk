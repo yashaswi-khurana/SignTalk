{
 "cells": [
  {
   "cell_type": "code",
   "execution_count": 1,
   "id": "e2d842c1-5bbd-498b-911d-4519c7da0e8b",
   "metadata": {},
   "outputs": [],
   "source": [
    "#Add proper comments and markdowns"
   ]
  },
  {
   "cell_type": "code",
   "execution_count": null,
   "id": "6bdb5d96-5a7b-4078-b3f9-775fb9ce2f18",
   "metadata": {},
   "outputs": [],
   "source": []
  }
 ],
 "metadata": {
  "kernelspec": {
   "display_name": "Python 3 (ipykernel)",
   "language": "python",
   "name": "python3"
  },
  "language_info": {
   "codemirror_mode": {
    "name": "ipython",
    "version": 3
   },
   "file_extension": ".py",
   "mimetype": "text/x-python",
   "name": "python",
   "nbconvert_exporter": "python",
   "pygments_lexer": "ipython3",
   "version": "3.12.4"
  }
 },
 "nbformat": 4,
 "nbformat_minor": 5
}
